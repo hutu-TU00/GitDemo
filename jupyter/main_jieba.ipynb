{
 "cells": [
  {
   "cell_type": "markdown",
   "id": "bf20f604-5e68-4158-85ae-4a066c14af15",
   "metadata": {},
   "source": [
    "# 结巴分词实践"
   ]
  },
  {
   "cell_type": "markdown",
   "id": "4491baec-b8f6-46e0-b3f2-dff87e5640a2",
   "metadata": {},
   "source": [
    "## 结巴分词的三种模式"
   ]
  },
  {
   "cell_type": "markdown",
   "id": "a947f3ba-7d9c-4a85-b168-45c5550db4f8",
   "metadata": {},
   "source": [
    "### 全模式\n"
   ]
  },
  {
   "cell_type": "code",
   "execution_count": 3,
   "id": "309dc900-7563-4c97-967d-43aaebb018ff",
   "metadata": {},
   "outputs": [
    {
     "name": "stdout",
     "output_type": "stream",
     "text": [
      "Full Mode: 我/ 来到/ 北京/ 清华/ 清华大学/ 华大/ 大学\n"
     ]
    }
   ],
   "source": [
    "import jieba\n",
    "seg_list = jieba.cut(\"我来到北京清华大学\", cut_all=True)\n",
    "print(\"Full Mode: \" + \"/ \".join(seg_list))"
   ]
  },
  {
   "cell_type": "markdown",
   "id": "4e30273f-2d30-441c-b23e-0f1766b2c754",
   "metadata": {},
   "source": [
    "### 精确模式"
   ]
  },
  {
   "cell_type": "code",
   "execution_count": 4,
   "id": "b44ac87b-75bc-4a0a-aa97-2b6f8bff5daa",
   "metadata": {},
   "outputs": [
    {
     "name": "stdout",
     "output_type": "stream",
     "text": [
      "Default Mode: 我/ 来到/ 北京/ 清华大学\n"
     ]
    }
   ],
   "source": [
    "import jieba\n",
    "seg_list = jieba.cut(\"我来到北京清华大学\", cut_all=False)\n",
    "print(\"Default Mode: \" + \"/ \".join(seg_list)) "
   ]
  },
  {
   "cell_type": "markdown",
   "id": "591ac1de-0a07-4bd2-9ada-44d80ee31bc0",
   "metadata": {},
   "source": [
    "### 搜索引擎模式"
   ]
  },
  {
   "cell_type": "code",
   "execution_count": 5,
   "id": "09e10a2c-b495-4ede-95f6-6df38d2aee60",
   "metadata": {},
   "outputs": [
    {
     "name": "stdout",
     "output_type": "stream",
     "text": [
      "小明, 硕士, 毕业, 于, 中国, 科学, 学院, 科学院, 中国科学院, 计算, 计算所, ，, 后, 在, 日本, 京都, 大学, 日本京都大学, 深造\n"
     ]
    }
   ],
   "source": [
    "import jieba\n",
    "seg_list = jieba.cut_for_search(\"小明硕士毕业于中国科学院计算所，后在日本京都大学深造\") \n",
    "print(\", \".join(seg_list)) "
   ]
  },
  {
   "cell_type": "markdown",
   "id": "1bd74c6a-c1eb-4dcd-9b5a-655ba0348b98",
   "metadata": {},
   "source": [
    "## 载入字典"
   ]
  },
  {
   "cell_type": "code",
   "execution_count": 6,
   "id": "929d2e3f-5eb2-4d4f-b7fa-05973a5f40d8",
   "metadata": {},
   "outputs": [
    {
     "name": "stdout",
     "output_type": "stream",
     "text": [
      "Default Mode: 赵佳欣/ 即将/ 是/ 自然语言/ 处理/ 方面/ 的/ 高手\n"
     ]
    }
   ],
   "source": [
    " jieba.load_userdict(\"userdict.txt\")\n",
    "seg_list = jieba.cut(\"赵佳欣即将是自然语言处理方面的高手\", cut_all=False, HMM=False)\n",
    "print(\"Default Mode: \" + \"/ \".join(seg_list)) "
   ]
  },
  {
   "cell_type": "code",
   "execution_count": 13,
   "id": "47b04431-0e6f-4335-888d-a86743278c62",
   "metadata": {},
   "outputs": [
    {
     "name": "stdout",
     "output_type": "stream",
     "text": [
      "重点\n",
      "大学\n",
      "国家\n",
      "河北省\n",
      "共建\n"
     ]
    }
   ],
   "source": [
    "import jieba.analyse\n",
    "sentence = \"燕山大学是河北省人民政府、教育部、工业和信息化部、国家国防科技工业局四方共建的全国重点大学，河北省重点支持的国家一流大学和世界一流学科建设高校，北京高科大学联盟成员。\"\n",
    "keywords = jieba.analyse.textrank(sentence, topK=5, withWeight=False, allowPOS=('ns', 'n', 'vn', 'v'))\n",
    "for keyword in keywords:\n",
    "    print(keyword)"
   ]
  },
  {
   "cell_type": "code",
   "execution_count": null,
   "id": "bb994662-d20f-40c2-9a25-a4aabb1b47ba",
   "metadata": {},
   "outputs": [],
   "source": []
  }
 ],
 "metadata": {
  "kernelspec": {
   "display_name": "Python 3 (ipykernel)",
   "language": "python",
   "name": "python3"
  },
  "language_info": {
   "codemirror_mode": {
    "name": "ipython",
    "version": 3
   },
   "file_extension": ".py",
   "mimetype": "text/x-python",
   "name": "python",
   "nbconvert_exporter": "python",
   "pygments_lexer": "ipython3",
   "version": "3.9.21"
  }
 },
 "nbformat": 4,
 "nbformat_minor": 5
}
