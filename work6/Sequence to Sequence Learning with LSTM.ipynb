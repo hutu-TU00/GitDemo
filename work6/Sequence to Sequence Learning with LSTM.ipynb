{
 "cells": [
  {
   "cell_type": "code",
   "execution_count": 1,
   "id": "85dcb1ef-14da-4906-b5e3-42550b57b8b8",
   "metadata": {},
   "outputs": [],
   "source": [
    "import os\n",
    "import torch\n",
    "import torch.nn as nn\n",
    "import torch.optim as optim\n",
    "import random\n",
    "import numpy as np\n",
    "import spacy\n",
    "import datasets\n",
    "import torchtext\n",
    "import tqdm\n",
    "import evaluate\n"
   ]
  },
  {
   "cell_type": "code",
   "execution_count": 2,
   "id": "0a2bf647-bb3e-47de-900a-a811042f4e8a",
   "metadata": {},
   "outputs": [],
   "source": [
    "seed = 1234\n",
    "\n",
    "random.seed(seed)\n",
    "np.random.seed(seed)\n",
    "torch.manual_seed(seed)\n",
    "torch.cuda.manual_seed(seed)\n",
    "torch.backends.cudnn.deterministic = True\n"
   ]
  },
  {
   "cell_type": "markdown",
   "id": "5cab0a79-33e3-4697-b3df-c7311db35425",
   "metadata": {},
   "source": [
    "\n",
    "\n",
    "### 1. 设置 os.environ['HF_ENDPOINT'] = 'https://hf-mirror.com' ，这样做具体改变了什么？ \n",
    " \n",
    " os.environ  是Python中用于访问和操作环境变量的对象。 HF_ENDPOINT  是Hugging Face相关库（如  datasets 、 transformers  等）用来确定从哪里获取模型、数据集等资源的环境变量。当设置  os.environ['HF_ENDPOINT'] = 'https://hf-mirror.com'  后，Hugging Face的相关库在请求资源时，会从指定的镜像站点  https://hf-mirror.com  而不是官方默认的源去获取数据。这可以在一些情况下提高访问速度、绕过网络限制等。\n",
    "\n",
    "### 为什么要设置HF_ENDPOINT='https://hf-mirror.com'而非直接使用官方源？ \n",
    " 网络限制和访问问题：在某些网络环境中，官方源可能被限制访问，通过设置镜像站点可以绕过这些限制，正常获取资源。\n",
    " \n",
    " 提高下载速度：镜像站点可能在地理位置上更接近用户，或者有更好的网络带宽，从而提高下载模型和数据集的速度。\n",
    " \n",
    " 减轻官方源压力：使用镜像站点可以分散流量，减轻Hugging Face官方源的负载，有助于整个生态系统的稳定运行。\n",
    "\n",
    "\n",
    "\n",
    "## dataset = datasets.load_dataset(\"bentrevett/multi30k\") 这行代码具体完成了什么操作？\n",
    "\n",
    "这行代码使用了Hugging Face的  datasets  库来加载名为  \"bentrevett/multi30k\"  的数据集。具体来说，它会： \n",
    " 检查本地是否已经缓存了该数据集。如果已经缓存，则直接从本地加载。\n",
    " 如果本地没有缓存，它会根据  HF_ENDPOINT  环境变量（如果已设置）指定的地址，从远程获取该数据集，并下载到本地缓存目录。\n",
    " 最后，将加载好的数据集对象赋值给变量  dataset ，后续可以对该数据集进行各种操作，如查看数据样本、进行数据预处理等。 multi30k  数据集是一个用于机器翻译和多模态研究的数据集，包含图像描述对（源语言和目标语言）。\n"
   ]
  },
  {
   "cell_type": "code",
   "execution_count": 3,
   "id": "c9ea34ca-b473-4b6a-886c-2e024b504cd5",
   "metadata": {
    "scrolled": true
   },
   "outputs": [],
   "source": [
    "import os\n",
    "from datasets import load_dataset\n",
    "\n",
    "# 1. 基础修改方式\n",
    "os.environ['HF_ENDPOINT'] = 'https://hf-mirror.com'\n",
    "\n",
    "# 2. 加载数据集（自动走镜像）\n",
    "dataset = load_dataset(\"multi30k\")\n"
   ]
  },
  {
   "cell_type": "code",
   "execution_count": 4,
   "id": "c37ce63a-640b-4a9f-9e42-eec9396094f3",
   "metadata": {
    "scrolled": true
   },
   "outputs": [
    {
     "data": {
      "text/plain": [
       "DatasetDict({\n",
       "    train: Dataset({\n",
       "        features: ['en', 'de'],\n",
       "        num_rows: 29000\n",
       "    })\n",
       "    validation: Dataset({\n",
       "        features: ['en', 'de'],\n",
       "        num_rows: 1014\n",
       "    })\n",
       "    test: Dataset({\n",
       "        features: ['en', 'de'],\n",
       "        num_rows: 1000\n",
       "    })\n",
       "})"
      ]
     },
     "execution_count": 4,
     "metadata": {},
     "output_type": "execute_result"
    }
   ],
   "source": [
    "dataset"
   ]
  },
  {
   "cell_type": "code",
   "execution_count": 5,
   "id": "d90b4901-04ff-428d-9573-1cacf36dda81",
   "metadata": {},
   "outputs": [],
   "source": [
    "train_data, valid_data, test_data = (\n",
    "    dataset[\"train\"],\n",
    "    dataset[\"validation\"],\n",
    "    dataset[\"test\"],\n",
    ")"
   ]
  },
  {
   "cell_type": "code",
   "execution_count": 6,
   "id": "b66309f2-c584-44ea-8275-5222981c5de4",
   "metadata": {},
   "outputs": [
    {
     "data": {
      "text/plain": [
       "{'en': 'Two young, White males are outside near many bushes.',\n",
       " 'de': 'Zwei junge weiße Männer sind im Freien in der Nähe vieler Büsche.'}"
      ]
     },
     "execution_count": 6,
     "metadata": {},
     "output_type": "execute_result"
    }
   ],
   "source": [
    "train_data[0]"
   ]
  },
  {
   "cell_type": "code",
   "execution_count": 7,
   "id": "771e40b0-89b0-4c3a-8e91-cf4be0cabc11",
   "metadata": {},
   "outputs": [],
   "source": [
    "en_nlp = spacy.load(\"en_core_web_sm\")\n",
    "de_nlp = spacy.load(\"de_core_news_sm\")"
   ]
  },
  {
   "cell_type": "code",
   "execution_count": 8,
   "id": "88795385-92c7-4746-a134-39093e091e5d",
   "metadata": {},
   "outputs": [
    {
     "data": {
      "text/plain": [
       "['What', 'a', 'lovely', 'day', 'it', 'is', 'today', '!']"
      ]
     },
     "execution_count": 8,
     "metadata": {},
     "output_type": "execute_result"
    }
   ],
   "source": [
    "string = \"What a lovely day it is today!\"\n",
    "\n",
    "[token.text for token in en_nlp.tokenizer(string)]"
   ]
  },
  {
   "cell_type": "markdown",
   "id": "3bca107f-4be0-4d17-a42c-f3140c6fef52",
   "metadata": {},
   "source": [
    "### 函数  tokenize_example \n",
    "\n",
    "其功能是对包含英文和德文文本的样本进行分词、文本处理（如转换为小写），并添加开始和结束标记。"
   ]
  },
  {
   "cell_type": "code",
   "execution_count": 9,
   "id": "afc29531-96b8-41ce-a259-4d1063d1a127",
   "metadata": {},
   "outputs": [],
   "source": [
    "def tokenize_example(example, en_nlp, de_nlp, max_length, lower, sos_token, eos_token):\n",
    "    en_tokens = [token.text for token in en_nlp.tokenizer(example[\"en\"])][:max_length]\n",
    "    de_tokens = [token.text for token in de_nlp.tokenizer(example[\"de\"])][:max_length]\n",
    "    if lower:\n",
    "        en_tokens = [token.lower() for token in en_tokens]\n",
    "        de_tokens = [token.lower() for token in de_tokens]\n",
    "    en_tokens = [sos_token] + en_tokens + [eos_token]\n",
    "    de_tokens = [sos_token] + de_tokens + [eos_token]\n",
    "    return {\"en_tokens\": en_tokens, \"de_tokens\": de_tokens}"
   ]
  },
  {
   "cell_type": "markdown",
   "id": "ae78689f-d759-420a-88dc-ac3505da3a27",
   "metadata": {},
   "source": [
    "\n",
    "### sos和eos的含义 \n",
    "sos_token = \"<sos>\"  中的  \"sos\"  是 \"Start of Sentence\" 的缩写，即句子开始标记。在自然语言处理中，尤其是在序列到序列（如机器翻译）等任务里，模型需要知道一个句子从哪里开始。因此，会在每个句子的开头添加这个特殊的标记，这样模型就能识别句子的起始位置。\n",
    " \n",
    "eos_token = \"<eos>\"  中的  \"eos\"  是 \"End of Sentence\" 的缩写，即句子结束标记。类似地，模型需要知道一个句子在何处结束。在处理完一个句子的所有单词后，添加这个特殊标记，让模型明确句子的终止。\n",
    "\n",
    "### map函数的作用\n",
    " map  函数的作用是对数据集中的每个样本应用指定的函数"
   ]
  },
  {
   "cell_type": "code",
   "execution_count": 10,
   "id": "2dcb6859-a463-4446-8874-d885f0e601c1",
   "metadata": {},
   "outputs": [
    {
     "data": {
      "application/vnd.jupyter.widget-view+json": {
       "model_id": "8f0a9fff5c3d48618103947c86e8e73f",
       "version_major": 2,
       "version_minor": 0
      },
      "text/plain": [
       "Map:   0%|          | 0/1014 [00:00<?, ? examples/s]"
      ]
     },
     "metadata": {},
     "output_type": "display_data"
    },
    {
     "data": {
      "application/vnd.jupyter.widget-view+json": {
       "model_id": "36cf33389ebe4c77a11b6191ba0b7ff8",
       "version_major": 2,
       "version_minor": 0
      },
      "text/plain": [
       "Map:   0%|          | 0/1000 [00:00<?, ? examples/s]"
      ]
     },
     "metadata": {},
     "output_type": "display_data"
    }
   ],
   "source": [
    "max_length = 1_000\n",
    "lower = True\n",
    "sos_token = \"<sos>\"\n",
    "eos_token = \"<eos>\"\n",
    "\n",
    "fn_kwargs = {\n",
    "    \"en_nlp\": en_nlp,\n",
    "    \"de_nlp\": de_nlp,\n",
    "    \"max_length\": max_length,\n",
    "    \"lower\": lower,\n",
    "    \"sos_token\": sos_token,\n",
    "    \"eos_token\": eos_token,\n",
    "}\n",
    "\n",
    "train_data = train_data.map(tokenize_example, fn_kwargs=fn_kwargs)\n",
    "valid_data = valid_data.map(tokenize_example, fn_kwargs=fn_kwargs)\n",
    "test_data = test_data.map(tokenize_example, fn_kwargs=fn_kwargs)"
   ]
  },
  {
   "cell_type": "code",
   "execution_count": 11,
   "id": "e1b0e889-bebd-4935-9f4d-ebdc067fcdaf",
   "metadata": {},
   "outputs": [
    {
     "data": {
      "text/plain": [
       "{'en': 'Two young, White males are outside near many bushes.',\n",
       " 'de': 'Zwei junge weiße Männer sind im Freien in der Nähe vieler Büsche.',\n",
       " 'en_tokens': ['<sos>',\n",
       "  'two',\n",
       "  'young',\n",
       "  ',',\n",
       "  'white',\n",
       "  'males',\n",
       "  'are',\n",
       "  'outside',\n",
       "  'near',\n",
       "  'many',\n",
       "  'bushes',\n",
       "  '.',\n",
       "  '<eos>'],\n",
       " 'de_tokens': ['<sos>',\n",
       "  'zwei',\n",
       "  'junge',\n",
       "  'weiße',\n",
       "  'männer',\n",
       "  'sind',\n",
       "  'im',\n",
       "  'freien',\n",
       "  'in',\n",
       "  'der',\n",
       "  'nähe',\n",
       "  'vieler',\n",
       "  'büsche',\n",
       "  '.',\n",
       "  '<eos>']}"
      ]
     },
     "execution_count": 11,
     "metadata": {},
     "output_type": "execute_result"
    }
   ],
   "source": [
    "\n",
    "train_data[0]"
   ]
  },
  {
   "cell_type": "code",
   "execution_count": 12,
   "id": "7e064a72-7c2a-4285-b08b-827d10786eb5",
   "metadata": {},
   "outputs": [],
   "source": [
    "min_freq = 2\n",
    "unk_token = \"<unk>\"\n",
    "pad_token = \"<pad>\"\n",
    "\n",
    "special_tokens = [\n",
    "    unk_token,\n",
    "    pad_token,\n",
    "    sos_token,\n",
    "    eos_token,\n",
    "]\n",
    "\n",
    "en_vocab = torchtext.vocab.build_vocab_from_iterator(\n",
    "    train_data[\"en_tokens\"],\n",
    "    min_freq=min_freq,\n",
    "    specials=special_tokens,\n",
    ")\n",
    "\n",
    "de_vocab = torchtext.vocab.build_vocab_from_iterator(\n",
    "    train_data[\"de_tokens\"],\n",
    "    min_freq=min_freq,\n",
    "    specials=special_tokens,\n",
    ")\n"
   ]
  },
  {
   "cell_type": "code",
   "execution_count": 13,
   "id": "955f5790-e262-4922-a9d9-658ca5cbd52c",
   "metadata": {},
   "outputs": [
    {
     "data": {
      "text/plain": [
       "['<unk>', '<pad>', '<sos>', '<eos>', 'a', '.', 'in', 'the', 'on', 'man']"
      ]
     },
     "execution_count": 13,
     "metadata": {},
     "output_type": "execute_result"
    }
   ],
   "source": [
    "en_vocab.get_itos()[:10]"
   ]
  },
  {
   "cell_type": "code",
   "execution_count": 14,
   "id": "bcc6bece-57ce-4e3a-9ea3-a89be064df47",
   "metadata": {},
   "outputs": [
    {
     "data": {
      "text/plain": [
       "['<unk>', '<pad>', '<sos>', '<eos>', '.', 'ein', 'einem', 'in', 'eine', ',']"
      ]
     },
     "execution_count": 14,
     "metadata": {},
     "output_type": "execute_result"
    }
   ],
   "source": [
    "de_vocab.get_itos()[:10]"
   ]
  },
  {
   "cell_type": "code",
   "execution_count": 15,
   "id": "6feb956e-1ddf-4dd7-8755-6098573d3289",
   "metadata": {},
   "outputs": [
    {
     "data": {
      "text/plain": [
       "7"
      ]
     },
     "execution_count": 15,
     "metadata": {},
     "output_type": "execute_result"
    }
   ],
   "source": [
    "en_vocab[\"the\"]"
   ]
  },
  {
   "cell_type": "code",
   "execution_count": 16,
   "id": "90caca53-d128-464f-8c0e-568e4b86e45e",
   "metadata": {},
   "outputs": [],
   "source": [
    "assert en_vocab[unk_token] == de_vocab[unk_token]\n",
    "assert en_vocab[pad_token] == de_vocab[pad_token]\n",
    "\n",
    "unk_index = en_vocab[unk_token]\n",
    "pad_index = en_vocab[pad_token]"
   ]
  },
  {
   "cell_type": "code",
   "execution_count": 17,
   "id": "5d99b16b-ee19-4e05-892e-e41af3ac7535",
   "metadata": {},
   "outputs": [],
   "source": [
    "en_vocab.set_default_index(unk_index)\n",
    "de_vocab.set_default_index(unk_index)\n"
   ]
  },
  {
   "cell_type": "code",
   "execution_count": 18,
   "id": "d70cf5aa-0b45-4e42-a7ec-8a6adaea1d0f",
   "metadata": {},
   "outputs": [
    {
     "data": {
      "text/plain": [
       "[956, 2169, 173, 0, 821]"
      ]
     },
     "execution_count": 18,
     "metadata": {},
     "output_type": "execute_result"
    }
   ],
   "source": [
    "tokens = [\"i\", \"love\", \"watching\", \"crime\", \"shows\"]\n",
    "en_vocab.lookup_indices(tokens)"
   ]
  },
  {
   "cell_type": "markdown",
   "id": "200e593a-4862-4ad9-a94e-02d1f5ac4662",
   "metadata": {},
   "source": [
    "\n",
    "## 词汇表转换中\"crime\"变成<unk>的原因解析\n",
    "\n",
    "crime 不在 en_vocab 的词表中，导致被映射到 <unk>。"
   ]
  },
  {
   "cell_type": "code",
   "execution_count": 19,
   "id": "d842dd69-42b1-4fef-94cf-78f44a168192",
   "metadata": {},
   "outputs": [
    {
     "data": {
      "text/plain": [
       "['i', 'love', 'watching', '<unk>', 'shows']"
      ]
     },
     "execution_count": 19,
     "metadata": {},
     "output_type": "execute_result"
    }
   ],
   "source": [
    "en_vocab.lookup_tokens(en_vocab.lookup_indices(tokens))"
   ]
  },
  {
   "cell_type": "markdown",
   "id": "e2eb4772-9360-494b-9d2a-82a3ea484ec5",
   "metadata": {},
   "source": [
    "### 两个单元格中代码的作用\n",
    "将原始文本中的单词（tokens）转换为对应的数值索引，以便模型能够处理。"
   ]
  },
  {
   "cell_type": "code",
   "execution_count": 20,
   "id": "f00c9d7d-0782-4ca7-ac75-f227d6d91b9c",
   "metadata": {},
   "outputs": [],
   "source": [
    "def numericalize_example(example, en_vocab, de_vocab):\n",
    "    en_ids = en_vocab.lookup_indices(example[\"en_tokens\"])\n",
    "    de_ids = de_vocab.lookup_indices(example[\"de_tokens\"])\n",
    "    return {\"en_ids\": en_ids, \"de_ids\": de_ids}"
   ]
  },
  {
   "cell_type": "code",
   "execution_count": 21,
   "id": "337c193f-4ac4-4d75-983d-d2bec6bbf088",
   "metadata": {},
   "outputs": [
    {
     "data": {
      "application/vnd.jupyter.widget-view+json": {
       "model_id": "cfb2ae4084714875b8b196ee73587db7",
       "version_major": 2,
       "version_minor": 0
      },
      "text/plain": [
       "Map:   0%|          | 0/1014 [00:00<?, ? examples/s]"
      ]
     },
     "metadata": {},
     "output_type": "display_data"
    },
    {
     "data": {
      "application/vnd.jupyter.widget-view+json": {
       "model_id": "516d133ac6c9457bb8f4c8b228fc30cd",
       "version_major": 2,
       "version_minor": 0
      },
      "text/plain": [
       "Map:   0%|          | 0/1000 [00:00<?, ? examples/s]"
      ]
     },
     "metadata": {},
     "output_type": "display_data"
    }
   ],
   "source": [
    "fn_kwargs = {\"en_vocab\": en_vocab, \"de_vocab\": de_vocab}\n",
    "\n",
    "train_data = train_data.map(numericalize_example, fn_kwargs=fn_kwargs)\n",
    "valid_data = valid_data.map(numericalize_example, fn_kwargs=fn_kwargs)\n",
    "test_data = test_data.map(numericalize_example, fn_kwargs=fn_kwargs)"
   ]
  },
  {
   "cell_type": "code",
   "execution_count": 22,
   "id": "843f3fa7-3d71-4534-acc9-d321caaeda82",
   "metadata": {},
   "outputs": [
    {
     "data": {
      "text/plain": [
       "{'en': 'Two young, White males are outside near many bushes.',\n",
       " 'de': 'Zwei junge weiße Männer sind im Freien in der Nähe vieler Büsche.',\n",
       " 'en_tokens': ['<sos>',\n",
       "  'two',\n",
       "  'young',\n",
       "  ',',\n",
       "  'white',\n",
       "  'males',\n",
       "  'are',\n",
       "  'outside',\n",
       "  'near',\n",
       "  'many',\n",
       "  'bushes',\n",
       "  '.',\n",
       "  '<eos>'],\n",
       " 'de_tokens': ['<sos>',\n",
       "  'zwei',\n",
       "  'junge',\n",
       "  'weiße',\n",
       "  'männer',\n",
       "  'sind',\n",
       "  'im',\n",
       "  'freien',\n",
       "  'in',\n",
       "  'der',\n",
       "  'nähe',\n",
       "  'vieler',\n",
       "  'büsche',\n",
       "  '.',\n",
       "  '<eos>'],\n",
       " 'en_ids': [2, 16, 24, 15, 25, 778, 17, 57, 80, 202, 1312, 5, 3],\n",
       " 'de_ids': [2, 18, 26, 253, 30, 84, 20, 88, 7, 15, 110, 7647, 3171, 4, 3]}"
      ]
     },
     "execution_count": 22,
     "metadata": {},
     "output_type": "execute_result"
    }
   ],
   "source": [
    "\n",
    "train_data[0]"
   ]
  },
  {
   "cell_type": "code",
   "execution_count": 23,
   "id": "9e8a448c-1fef-43ca-b178-7767733fe7d7",
   "metadata": {},
   "outputs": [],
   "source": [
    "data_type = \"torch\"\n",
    "format_columns = [\"en_ids\", \"de_ids\"]\n",
    "\n",
    "train_data = train_data.with_format(\n",
    "    type=data_type, columns=format_columns, output_all_columns=True\n",
    ")\n",
    "\n",
    "valid_data = valid_data.with_format(\n",
    "    type=data_type,\n",
    "    columns=format_columns,\n",
    "    output_all_columns=True,\n",
    ")\n",
    "\n",
    "test_data = test_data.with_format(\n",
    "    type=data_type,\n",
    "    columns=format_columns,\n",
    "    output_all_columns=True,\n",
    ")"
   ]
  },
  {
   "cell_type": "code",
   "execution_count": 24,
   "id": "9e9b35d4-55c3-4d45-b86c-e3cf56849c5e",
   "metadata": {},
   "outputs": [
    {
     "data": {
      "text/plain": [
       "{'en_ids': tensor([   2,   16,   24,   15,   25,  778,   17,   57,   80,  202, 1312,    5,\n",
       "            3]),\n",
       " 'de_ids': tensor([   2,   18,   26,  253,   30,   84,   20,   88,    7,   15,  110, 7647,\n",
       "         3171,    4,    3]),\n",
       " 'en': 'Two young, White males are outside near many bushes.',\n",
       " 'de': 'Zwei junge weiße Männer sind im Freien in der Nähe vieler Büsche.',\n",
       " 'en_tokens': ['<sos>',\n",
       "  'two',\n",
       "  'young',\n",
       "  ',',\n",
       "  'white',\n",
       "  'males',\n",
       "  'are',\n",
       "  'outside',\n",
       "  'near',\n",
       "  'many',\n",
       "  'bushes',\n",
       "  '.',\n",
       "  '<eos>'],\n",
       " 'de_tokens': ['<sos>',\n",
       "  'zwei',\n",
       "  'junge',\n",
       "  'weiße',\n",
       "  'männer',\n",
       "  'sind',\n",
       "  'im',\n",
       "  'freien',\n",
       "  'in',\n",
       "  'der',\n",
       "  'nähe',\n",
       "  'vieler',\n",
       "  'büsche',\n",
       "  '.',\n",
       "  '<eos>']}"
      ]
     },
     "execution_count": 24,
     "metadata": {},
     "output_type": "execute_result"
    }
   ],
   "source": [
    "\n",
    "train_data[0]"
   ]
  },
  {
   "cell_type": "markdown",
   "id": "88c9145f-2a3b-4f29-b112-d0ef1669414d",
   "metadata": {},
   "source": [
    "\n",
    "## 数据处理函数解析\n",
    "\n",
    "### `get_collate_fn` 函数\n",
    "\n",
    "**作用**：\n",
    "创建用于处理批次数据的整理函数(collate function)，主要实现：\n",
    "1. 从批次中提取英语和德语的ID序列\n",
    "2. 对不等长序列进行填充对齐\n",
    "3. 返回整理后的批次数据\n",
    "\n",
    "\n",
    "### `get_data_loader` 函数\n",
    "\n",
    "**作用**：\n",
    "创建PyTorch数据加载器(DataLoader)，主要功能：\n",
    "1. 配置数据加载参数\n",
    "2. 应用自定义的整理函数\n",
    "3. 控制数据加载行为\n",
    "\n"
   ]
  },
  {
   "cell_type": "code",
   "execution_count": 25,
   "id": "9f00ebf9-0f21-4975-a1c4-4f520018072c",
   "metadata": {},
   "outputs": [],
   "source": [
    "def get_collate_fn(pad_index):\n",
    "    def collate_fn(batch):\n",
    "        batch_en_ids = [example[\"en_ids\"] for example in batch]\n",
    "        batch_de_ids = [example[\"de_ids\"] for example in batch]\n",
    "        batch_en_ids = nn.utils.rnn.pad_sequence(batch_en_ids, padding_value=pad_index)\n",
    "        batch_de_ids = nn.utils.rnn.pad_sequence(batch_de_ids, padding_value=pad_index)\n",
    "        batch = {\n",
    "            \"en_ids\": batch_en_ids,\n",
    "            \"de_ids\": batch_de_ids,\n",
    "        }\n",
    "        return batch\n",
    "\n",
    "    return collate_fn"
   ]
  },
  {
   "cell_type": "code",
   "execution_count": 26,
   "id": "08f24c82-7053-4d30-bf3e-3bac80cc9ddf",
   "metadata": {},
   "outputs": [
    {
     "data": {
      "text/plain": [
       "<function __main__.get_collate_fn.<locals>.collate_fn(batch)>"
      ]
     },
     "execution_count": 26,
     "metadata": {},
     "output_type": "execute_result"
    }
   ],
   "source": [
    "def get_data_loader(dataset, batch_size, pad_index, shuffle=False):\n",
    "    collate_fn = get_collate_fn(pad_index)\n",
    "    data_loader = torch.utils.data.DataLoader(\n",
    "        dataset=dataset,\n",
    "        batch_size=batch_size,\n",
    "        collate_fn=collate_fn,\n",
    "        shuffle=shuffle,\n",
    "    )\n",
    "    return data_loader\n",
    "get_collate_fn(pad_index)"
   ]
  },
  {
   "cell_type": "code",
   "execution_count": 27,
   "id": "65c18f7d-7614-42ec-b06e-a320a099ab7d",
   "metadata": {},
   "outputs": [],
   "source": [
    "\n",
    "batch_size = 128\n",
    "\n",
    "train_data_loader = get_data_loader(train_data, batch_size, pad_index, shuffle=True)\n",
    "valid_data_loader = get_data_loader(valid_data, batch_size, pad_index)\n",
    "test_data_loader = get_data_loader(test_data, batch_size, pad_index)\n"
   ]
  },
  {
   "cell_type": "markdown",
   "id": "85664703-9d73-4242-ad8c-ba73124e5491",
   "metadata": {},
   "source": [
    "### 解释下方单元格中Encoder类的代码。\n",
    "\n",
    "​​1️⃣ 类定义与初始化​​\n",
    "\n",
    "'''class Encoder(nn.Module):\n",
    "    def __init__(self, input_dim, embedding_dim, hidden_dim, n_layers, dropout):\n",
    "        super().__init__()\n",
    "        self.hidden_dim = hidden_dim\n",
    "        self.n_layers = n_layers\n",
    "        self.embedding = nn.Embedding(input_dim, embedding_dim)\n",
    "        self.rnn = nn.LSTM(embedding_dim, hidden_dim, n_layers, dropout=dropout)\n",
    "        self.dropout = nn.Dropout(dropout)'''\n",
    "\n",
    "​​组件作用​​：\n",
    "\n",
    "​​nn.Embedding​​:\n",
    "\n",
    "将输入的离散词索引（如 [5, 3, 2]）映射为连续的词向量。\n",
    "\n",
    "​​参数​​：\n",
    "\n",
    "input_dim: 词汇表大小（如 10,000 个单词）。\n",
    "\n",
    "embedding_dim: 词向量维度（如 256 维）。\n",
    "\n",
    "​​nn.LSTM​​:\n",
    "\n",
    "长短期记忆网络，处理序列数据并捕捉长期依赖。\n",
    "\n",
    "​​参数​​：\n",
    "\n",
    "embedding_dim: 输入维度（需与 Embedding 层输出一致）。\n",
    "\n",
    "hidden_dim: LSTM 隐藏层维度（如 512 维）。\n",
    "\n",
    "n_layers: LSTM 的堆叠层数（如 2 层）。\n",
    "\n",
    "dropout: 层间 dropout 概率（仅在多层 LSTM 中生效）。\n",
    "\n",
    "​​nn.Dropout​​:\n",
    "\n",
    "在训练时随机丢弃部分神经元，防止过拟合。\n",
    "\n",
    "2️⃣ 前向传播 (forward)​\n",
    "\n",
    "'''def forward(self, src):\n",
    "    embedded = self.dropout(self.embedding(src))  # [src_len, batch_size, emb_dim]\n",
    "    outputs, (hidden, cell) = self.rnn(embedded)\n",
    "    return hidden, cell'''\n",
    "    \n",
    "输入与输出​​：\n",
    "\n",
    "​​输入 src​​:\n",
    "\n",
    "形状：[src_len, batch_size]\n",
    "\n",
    "（例如：句子长度为 10，批次大小为 32 → [10, 32]）\n",
    "\n",
    "每个元素是词索引（如 [5, 3, 2]）。\n",
    "\n",
    "​​输出​​:\n",
    "\n",
    "hidden: 最后一层的隐藏状态，形状 [n_layers, batch_size, hidden_dim]。\n",
    "\n",
    "cell: 最后一层的细胞状态，形状与 hidden 相同。\n",
    "\n",
    "​​关键步骤​​：\n",
    "\n",
    "​​词嵌入与 Dropout​​:\n",
    "\n",
    "self.embedding(src) 将词索引转换为词向量 → 形状 [src_len, batch_size, embedding_dim]。\n",
    "\n",
    "self.dropout 对词向量进行随机置零，增强泛化性。\n",
    "\n",
    "​​LSTM 处理​​:\n",
    "\n",
    "输入 embedded 经过 LSTM 层，输出：\n",
    "\n",
    "outputs: 所有时间步的隐藏状态（通常用不到，因为只保留最后一层）。\n",
    "\n",
    "hidden: 最后一层的隐藏状态（用于传递给 Decoder）。\n",
    "\n",
    "cell: 最后一层的细胞状态（LSTM 的内部记忆）。\n",
    "\n",
    "​​3️⃣ 设计特点​​\n",
    "\n",
    "​​单向 LSTM​​:\n",
    "\n",
    "默认仅使用单向 LSTM（bidirectional=False），若需双向需修改 nn.LSTM 参数。\n",
    "\n",
    "​​多层 LSTM​​:\n",
    "\n",
    "通过 n_layers 堆叠多个 LSTM 层，深层网络可捕获更复杂的模式。\n",
    "\n",
    "​​Dropout 策略​​:\n",
    "\n",
    "仅在 LSTM 层间应用 dropout（通过 nn.LSTM 的 dropout 参数），最后一层后额外添加 self.dropout。"
   ]
  },
  {
   "cell_type": "code",
   "execution_count": 28,
   "id": "519707be-70a5-4060-af37-8a8767cbd15e",
   "metadata": {},
   "outputs": [],
   "source": [
    "class Encoder(nn.Module):\n",
    "    def __init__(self, input_dim, embedding_dim, hidden_dim, n_layers, dropout):\n",
    "        super().__init__()\n",
    "        self.hidden_dim = hidden_dim\n",
    "        self.n_layers = n_layers\n",
    "        self.embedding = nn.Embedding(input_dim, embedding_dim)\n",
    "        self.rnn = nn.LSTM(embedding_dim, hidden_dim, n_layers, dropout=dropout)\n",
    "        self.dropout = nn.Dropout(dropout)\n",
    "\n",
    "    def forward(self, src):\n",
    "        # src = [src length, batch size]\n",
    "        embedded = self.dropout(self.embedding(src))\n",
    "        # embedded = [src length, batch size, embedding dim]\n",
    "        outputs, (hidden, cell) = self.rnn(embedded)\n",
    "        # outputs = [src length, batch size, hidden dim * n directions]\n",
    "        # hidden = [n layers * n directions, batch size, hidden dim]\n",
    "        # cell = [n layers * n directions, batch size, hidden dim]\n",
    "        # outputs are always from the top hidden layer\n",
    "        return hidden, cell"
   ]
  },
  {
   "cell_type": "markdown",
   "id": "24f5aaff-bfb4-4249-9d68-4e0bb2bd6cee",
   "metadata": {},
   "source": [
    "### 描述Decoder的工作流程。\n",
    "\n",
    "1️⃣ 核心目标：序列生成​​\n",
    "\n",
    "Decoder 的作用是根据 Encoder 编码的上下文信息（hidden 和 cell 状态），​​自回归地生成目标序列​​（如翻译后的句子）。每次处理一个时间步，逐步预测下一个词。\n",
    "\n",
    "​​2️⃣ 输入与输出​​\n",
    "\n",
    "​​输入​​：\n",
    "\n",
    "input: 上一个时间步生成的词索引（训练时为真实标签，推理时为模型预测的词）。\n",
    "\n",
    "形状：[batch_size]（例如：批次中每个样本的上一个词索引）。\n",
    "\n",
    "hidden 和 cell: Encoder 传递的初始状态（或前一步的隐藏状态）。\n",
    "\n",
    "形状：[n_layers, batch_size, hidden_dim]。\n",
    "\n",
    "​​输出​​：\n",
    "\n",
    "prediction: 当前时间步的预测词概率分布。\n",
    "\n",
    "形状：[batch_size, output_dim]（例如：德语词汇表大小的向量）。\n",
    "\n",
    "更新后的 hidden 和 cell 状态，供下一个时间步使用。\n",
    "\n",
    "​​3️⃣ 前向传播 (forward) 流程​​\n",
    "\n",
    "​​步骤 1：输入形状调整​​\n",
    "\n",
    "input = input.unsqueeze(0)  # 从 [batch_size] → [1, batch_size]\n",
    "\n",
    "​​目的​​：将单步输入转换为 LSTM 需要的序列格式 [seq_len, batch_size]（此处 seq_len=1）。\n",
    "\n",
    "​​步骤 2：词嵌入与 Dropout​​\n",
    "\n",
    "embedded = self.dropout(self.embedding(input))  # [1, batch_size, embedding_dim]\n",
    "\n",
    "​​词嵌入​​：将离散词索引映射为连续向量。\n",
    "\n",
    "​​Dropout​​：随机丢弃部分词向量维度，防止过拟合。\n",
    "\n",
    "​​步骤 3：LSTM 处理​​\n",
    "\n",
    "output, (hidden, cell) = self.rnn(embedded, (hidden, cell))\n",
    "\n",
    "​​输入​​：\n",
    "\n",
    "embedded: 当前时间步的词向量。\n",
    "\n",
    "hidden 和 cell: 前一步的隐藏状态和细胞状态。\n",
    "\n",
    "​​输出​​：\n",
    "\n",
    "output: 当前时间步的隐藏状态（实际未直接使用）。\n",
    "\n",
    "hidden 和 cell: 更新后的状态，传递给下一步。\n",
    "\n",
    "​​步骤 4：预测生成​​\n",
    "\n",
    "prediction = self.fc_out(output.squeeze(0))  # 从 [1, batch_size, hidden_dim] → [batch_size, output_dim]\n",
    "\n",
    "​​Squeeze​​: 移除多余的序列长度维度（seq_len=1）。\n",
    "\n",
    "​​全连接层​​：将 LSTM 输出映射到目标词汇表空间（如德语词汇表大小）。"
   ]
  },
  {
   "cell_type": "code",
   "execution_count": 29,
   "id": "967d5340-b9b4-401a-ba92-dae55d4ed43d",
   "metadata": {},
   "outputs": [],
   "source": [
    "class Decoder(nn.Module):\n",
    "    def __init__(self, output_dim, embedding_dim, hidden_dim, n_layers, dropout):\n",
    "        super().__init__()\n",
    "        self.output_dim = output_dim\n",
    "        self.hidden_dim = hidden_dim\n",
    "        self.n_layers = n_layers\n",
    "        self.embedding = nn.Embedding(output_dim, embedding_dim)\n",
    "        self.rnn = nn.LSTM(embedding_dim, hidden_dim, n_layers, dropout=dropout)\n",
    "        self.fc_out = nn.Linear(hidden_dim, output_dim)\n",
    "        self.dropout = nn.Dropout(dropout)\n",
    "\n",
    "    def forward(self, input, hidden, cell):\n",
    "        # input = [batch size]\n",
    "        # hidden = [n layers * n directions, batch size, hidden dim]\n",
    "        # cell = [n layers * n directions, batch size, hidden dim]\n",
    "        # n directions in the decoder will both always be 1, therefore:\n",
    "        # hidden = [n layers, batch size, hidden dim]\n",
    "        # context = [n layers, batch size, hidden dim]\n",
    "        input = input.unsqueeze(0)\n",
    "        # input = [1, batch size]\n",
    "        embedded = self.dropout(self.embedding(input))\n",
    "        # embedded = [1, batch size, embedding dim]\n",
    "        output, (hidden, cell) = self.rnn(embedded, (hidden, cell))\n",
    "        # output = [seq length, batch size, hidden dim * n directions]\n",
    "        # hidden = [n layers * n directions, batch size, hidden dim]\n",
    "        # cell = [n layers * n directions, batch size, hidden dim]\n",
    "        # seq length and n directions will always be 1 in this decoder, therefore:\n",
    "        # output = [1, batch size, hidden dim]\n",
    "        # hidden = [n layers, batch size, hidden dim]\n",
    "        # cell = [n layers, batch size, hidden dim]\n",
    "        prediction = self.fc_out(output.squeeze(0))\n",
    "        # prediction = [batch size, output dim]\n",
    "        return prediction, hidden, cell"
   ]
  },
  {
   "cell_type": "markdown",
   "id": "e4dba93f-fa5f-4faa-a322-2fb338542938",
   "metadata": {},
   "source": [
    "### 解释下方单元格中Seq2Seq类的代码。\n",
    "\n",
    "​​1️⃣ 类定义与初始化​​\n",
    "\n",
    "'''class Seq2Seq(nn.Module):\n",
    "    def __init__(self, encoder, decoder, device):\n",
    "        super().__init__()\n",
    "        self.encoder = encoder\n",
    "        self.decoder = decoder\n",
    "        self.device = device\n",
    "        # 确保编码器和解码器的隐藏层维度、层数一致\n",
    "        assert encoder.hidden_dim == decoder.hidden_dim, \"隐藏层维度必须一致！\"\n",
    "        assert encoder.n_layers == decoder.n_layers, \"层数必须一致！\"'''\n",
    "\n",
    "​​关键设计点​​：\n",
    "\n",
    "​​编码器-解码器架构​​：encoder 处理输入序列，decoder 生成输出序列。\n",
    "\n",
    "​​设备管理​​：确保张量在 CPU/GPU 上正确分配。\n",
    "\n",
    "​​2️⃣ forward 函数流程​​\n",
    "\n",
    "​​输入​​：\n",
    "\n",
    "src: 输入序列（源语言），形状 [src_len, batch_size]。\n",
    "\n",
    "trg: 目标序列（目标语言），形状 [trg_len, batch_size]（含 <sos> 和 <eos>）。\n",
    "\n",
    "teacher_forcing_ratio: 使用真实标签作为下一步输入的概率（如 0.75）。\n",
    "\n",
    "​​输出​​：\n",
    "\n",
    "outputs: 所有时间步的预测结果，形状 [trg_len, batch_size, trg_vocab_size]。\n",
    "\n",
    "​​步骤解析​​：\n",
    "\n",
    "​​初始化​​：\n",
    "\n",
    "'''batch_size = trg.shape[1]\n",
    "trg_length = trg.shape[0]\n",
    "outputs = torch.zeros(trg_length, batch_size, self.decoder.output_dim).to(self.device)\n",
    "hidden, cell = self.encoder(src)  # 编码器生成初始状态\n",
    "input = trg[0, :]  # 第一个输入是 <sos> 符号'''\n",
    "\n",
    "​​循环生成序列​​（从时间步 1 到 trg_length-1）：\n",
    "\n",
    "'''for t in range(1, trg_length):\n",
    "    output, hidden, cell = self.decoder(input, hidden, cell)  # 解码器单步推理\n",
    "    outputs[t] = output  # 保存当前时间步的预测\n",
    "    \n",
    "    # Teacher Forcing 决策\n",
    "    teacher_force = random.random() < teacher_forcing_ratio\n",
    "    top1 = output.argmax(1)  # 当前预测的词\n",
    "    input = trg[t] if teacher_force else top1  # 输入下一时间步的真实词或预测词'''\n",
    "    \n",
    "​​返回结果​​：\n",
    "\n",
    "return outputs  # 所有时间步的预测\n",
    "\n",
    "​​3️⃣ Teacher Forcing 机制​​\n",
    "\n",
    "\n",
    "​​作用​​：\n",
    "\n",
    "​​训练阶段​​：以一定概率（teacher_forcing_ratio）使用 ​​真实标签​​（trg[t]）作为解码器的下一个输入，而非模型预测的词。\n",
    "\n",
    "​​目的​​：加速模型收敛，减少误差累积。\n",
    "\n",
    "​​流程示例​​：\n",
    "假设 teacher_forcing_ratio=0.75：\n",
    "\n",
    "​​75% 的情况​​：输入为真实标签（如 trg[1]）。\n",
    "\n",
    "​​25% 的情况​​：输入为模型预测的词（如 top1）。\n",
    "\n",
    "​​代码实现​​：\n",
    "\n",
    "'''teacher_force = random.random() < teacher_forcing_ratio\n",
    "input = trg[t] if teacher_force else top1'''\n",
    "\n",
    "​​4️⃣输出与损失计算​​\n",
    "\n",
    "​​输出形状​​：[trg_len, batch_size, trg_vocab_size]。\n",
    "\n",
    "​​损失计算​​：对比每个时间步的预测与真实标签（忽略 <pad>）。\n",
    "\n",
    "loss = criterion(outputs[1:].view(-1, trg_vocab_size), trg[1:].view(-1))"
   ]
  },
  {
   "cell_type": "code",
   "execution_count": 30,
   "id": "4736301d-0c39-4d7d-902d-6ba31271b32c",
   "metadata": {},
   "outputs": [],
   "source": [
    "class Seq2Seq(nn.Module):\n",
    "    def __init__(self, encoder, decoder, device):\n",
    "        super().__init__()\n",
    "        self.encoder = encoder\n",
    "        self.decoder = decoder\n",
    "        self.device = device\n",
    "        assert (\n",
    "            encoder.hidden_dim == decoder.hidden_dim\n",
    "        ), \"Hidden dimensions of encoder and decoder must be equal!\"\n",
    "        assert (\n",
    "            encoder.n_layers == decoder.n_layers\n",
    "        ), \"Encoder and decoder must have equal number of layers!\"\n",
    "\n",
    "    def forward(self, src, trg, teacher_forcing_ratio):\n",
    "        # src = [src length, batch size]\n",
    "        # trg = [trg length, batch size]\n",
    "        # teacher_forcing_ratio is probability to use teacher forcing\n",
    "        # e.g. if teacher_forcing_ratio is 0.75 we use ground-truth inputs 75% of the time\n",
    "        batch_size = trg.shape[1]\n",
    "        trg_length = trg.shape[0]\n",
    "        trg_vocab_size = self.decoder.output_dim\n",
    "        # tensor to store decoder outputs\n",
    "        outputs = torch.zeros(trg_length, batch_size, trg_vocab_size).to(self.device)\n",
    "        # last hidden state of the encoder is used as the initial hidden state of the decoder\n",
    "        hidden, cell = self.encoder(src)\n",
    "        # hidden = [n layers * n directions, batch size, hidden dim]\n",
    "        # cell = [n layers * n directions, batch size, hidden dim]\n",
    "        # first input to the decoder is the <sos> tokens\n",
    "        input = trg[0, :]\n",
    "        # input = [batch size]\n",
    "        for t in range(1, trg_length):\n",
    "            # insert input token embedding, previous hidden and previous cell states\n",
    "            # receive output tensor (predictions) and new hidden and cell states\n",
    "            output, hidden, cell = self.decoder(input, hidden, cell)\n",
    "            # output = [batch size, output dim]\n",
    "            # hidden = [n layers, batch size, hidden dim]\n",
    "            # cell = [n layers, batch size, hidden dim]\n",
    "            # place predictions in a tensor holding predictions for each token\n",
    "            outputs[t] = output\n",
    "            # decide if we are going to use teacher forcing or not\n",
    "            teacher_force = random.random() < teacher_forcing_ratio\n",
    "            # get the highest predicted token from our predictions\n",
    "            top1 = output.argmax(1)\n",
    "            # if teacher forcing, use actual next token as next input\n",
    "            # if not, use predicted token\n",
    "            input = trg[t] if teacher_force else top1\n",
    "            # input = [batch size]\n",
    "        return outputs"
   ]
  },
  {
   "cell_type": "code",
   "execution_count": 31,
   "id": "832d8ca7-bb86-4b37-a522-280331d3c958",
   "metadata": {},
   "outputs": [],
   "source": [
    "input_dim = len(de_vocab)\n",
    "output_dim = len(en_vocab)\n",
    "encoder_embedding_dim = 256\n",
    "decoder_embedding_dim = 256\n",
    "hidden_dim = 512\n",
    "n_layers = 2\n",
    "encoder_dropout = 0.5\n",
    "decoder_dropout = 0.5\n",
    "device = torch.device(\"cuda\" if torch.cuda.is_available() else \"cpu\")\n",
    "# 编码器初始化\n",
    "encoder = Encoder(\n",
    "    input_dim,\n",
    "    encoder_embedding_dim,\n",
    "    hidden_dim,\n",
    "    n_layers,\n",
    "    encoder_dropout,\n",
    ")\n",
    "# 解码器初始化\n",
    "decoder = Decoder(\n",
    "    output_dim,\n",
    "    decoder_embedding_dim,\n",
    "    hidden_dim,\n",
    "    n_layers,\n",
    "    decoder_dropout,\n",
    ")\n",
    "# Seq2Seq模型整合\n",
    "model = Seq2Seq(encoder, decoder, device).to(device)"
   ]
  },
  {
   "cell_type": "code",
   "execution_count": 32,
   "id": "6ef193e6-4ceb-460f-91b4-77f8c52e2542",
   "metadata": {},
   "outputs": [
    {
     "data": {
      "text/plain": [
       "Seq2Seq(\n",
       "  (encoder): Encoder(\n",
       "    (embedding): Embedding(7853, 256)\n",
       "    (rnn): LSTM(256, 512, num_layers=2, dropout=0.5)\n",
       "    (dropout): Dropout(p=0.5, inplace=False)\n",
       "  )\n",
       "  (decoder): Decoder(\n",
       "    (embedding): Embedding(5893, 256)\n",
       "    (rnn): LSTM(256, 512, num_layers=2, dropout=0.5)\n",
       "    (fc_out): Linear(in_features=512, out_features=5893, bias=True)\n",
       "    (dropout): Dropout(p=0.5, inplace=False)\n",
       "  )\n",
       ")"
      ]
     },
     "execution_count": 32,
     "metadata": {},
     "output_type": "execute_result"
    }
   ],
   "source": [
    "def init_weights(m):\n",
    "    for name, param in m.named_parameters():\n",
    "        nn.init.uniform_(param.data, -0.08, 0.08)\n",
    "\n",
    "\n",
    "model.apply(init_weights)"
   ]
  },
  {
   "cell_type": "code",
   "execution_count": 33,
   "id": "cf0025c5-f117-450c-81da-c4d986d75ab4",
   "metadata": {},
   "outputs": [
    {
     "name": "stdout",
     "output_type": "stream",
     "text": [
      "The model has 13,898,501 trainable parameters\n"
     ]
    }
   ],
   "source": [
    "def count_parameters(model):\n",
    "    return sum(p.numel() for p in model.parameters() if p.requires_grad)\n",
    "\n",
    "\n",
    "print(f\"The model has {count_parameters(model):,} trainable parameters\")"
   ]
  },
  {
   "cell_type": "code",
   "execution_count": 34,
   "id": "fdad372c-f2ab-4eae-8482-4d6393ab79a3",
   "metadata": {},
   "outputs": [],
   "source": [
    "optimizer = optim.Adam(model.parameters())"
   ]
  },
  {
   "cell_type": "code",
   "execution_count": 35,
   "id": "573ead36-c266-4269-8699-6b3f14aa5d13",
   "metadata": {},
   "outputs": [],
   "source": [
    "criterion = nn.CrossEntropyLoss(ignore_index=pad_index)"
   ]
  },
  {
   "cell_type": "code",
   "execution_count": 36,
   "id": "527b98e2-f2cc-47b7-aa8b-afcc88e698a1",
   "metadata": {},
   "outputs": [],
   "source": [
    "def train_fn(\n",
    "    model, data_loader, optimizer, criterion, clip, teacher_forcing_ratio, device\n",
    "):\n",
    "    # 设置模型为训练模式\n",
    "    model.train()\n",
    "    # 初始化当前epoch的总损失\n",
    "    epoch_loss = 0\n",
    "    # 遍历数据加载器中的每个批次\n",
    "    for i, batch in enumerate(data_loader):\n",
    "        # 获取源语言序列并移动到指定设备\n",
    "        src = batch[\"de_ids\"].to(device)\n",
    "        # 获取目标语言序列并移动到指定设备\n",
    "        trg = batch[\"en_ids\"].to(device)\n",
    "        # src的形状为 [src length, batch size]\n",
    "        # trg的形状为 [trg length, batch size]\n",
    "        \n",
    "        # 清空优化器的梯度\n",
    "        optimizer.zero_grad()\n",
    "        # 将源序列和目标序列输入模型，获取输出\n",
    "        output = model(src, trg, teacher_forcing_ratio)\n",
    "        # output的形状为 [trg length, batch size, trg vocab size]\n",
    "        \n",
    "        # 获取目标词汇表的大小\n",
    "        output_dim = output.shape[-1]\n",
    "        # 去掉输出的第一个时间步（<sos>），并调整形状以适配损失函数\n",
    "        output = output[1:].view(-1, output_dim)\n",
    "        # output的形状为 [(trg length - 1) * batch size, trg vocab size]\n",
    "        \n",
    "        # 去掉目标序列的第一个时间步（<sos>），并调整形状以适配损失函数\n",
    "        trg = trg[1:].view(-1)\n",
    "        # trg的形状为 [(trg length - 1) * batch size]\n",
    "        \n",
    "        # 计算当前批次的损失\n",
    "        loss = criterion(output, trg)\n",
    "        # 反向传播计算梯度\n",
    "        loss.backward()\n",
    "        # 对梯度进行裁剪，防止梯度爆炸\n",
    "        torch.nn.utils.clip_grad_norm_(model.parameters(), clip)\n",
    "        # 更新模型参数\n",
    "        optimizer.step()\n",
    "        # 累加当前批次的损失\n",
    "        epoch_loss += loss.item()\n",
    "    \n",
    "    # 返回当前epoch的平均损失\n",
    "    return epoch_loss / len(data_loader)\n",
    "\n"
   ]
  },
  {
   "cell_type": "code",
   "execution_count": 37,
   "id": "6640f38c-f962-4b3d-8e1c-7a5d246d9318",
   "metadata": {},
   "outputs": [],
   "source": [
    "def evaluate_fn(model, data_loader, criterion, device):\n",
    "    model.eval()\n",
    "    epoch_loss = 0\n",
    "    with torch.no_grad():\n",
    "        for i, batch in enumerate(data_loader):\n",
    "            src = batch[\"de_ids\"].to(device)\n",
    "            trg = batch[\"en_ids\"].to(device)\n",
    "            # src = [src length, batch size]\n",
    "            # trg = [trg length, batch size]\n",
    "            output = model(src, trg, 0)  # turn off teacher forcing\n",
    "            # output = [trg length, batch size, trg vocab size]\n",
    "            output_dim = output.shape[-1]\n",
    "            output = output[1:].view(-1, output_dim)\n",
    "            # output = [(trg length - 1) * batch size, trg vocab size]\n",
    "            trg = trg[1:].view(-1)\n",
    "            # trg = [(trg length - 1) * batch size]\n",
    "            loss = criterion(output, trg)\n",
    "            epoch_loss += loss.item()\n",
    "    return epoch_loss / len(data_loader)"
   ]
  },
  {
   "cell_type": "code",
   "execution_count": 38,
   "id": "4f0a0ab4-1b88-4958-ae59-ed440fd9a8b0",
   "metadata": {},
   "outputs": [
    {
     "name": "stderr",
     "output_type": "stream",
     "text": [
      "100%|███████████████████████████████████████████████████████████████████████████████████| 1/1 [04:59<00:00, 299.49s/it]"
     ]
    },
    {
     "name": "stdout",
     "output_type": "stream",
     "text": [
      "\tTrain Loss:   5.026 | Train PPL: 152.277\n",
      "\tValid Loss:   4.861 | Valid PPL: 129.150\n"
     ]
    },
    {
     "name": "stderr",
     "output_type": "stream",
     "text": [
      "\n"
     ]
    }
   ],
   "source": [
    "n_epochs = 1 # 因模型训练对计算资源要求较高，此处只设立了一轮训练。\n",
    "clip = 1.0\n",
    "teacher_forcing_ratio = 0.5\n",
    "\n",
    "best_valid_loss = float(\"inf\")\n",
    "\n",
    "for epoch in tqdm.tqdm(range(n_epochs)):\n",
    "    train_loss = train_fn(\n",
    "        model,\n",
    "        train_data_loader,\n",
    "        optimizer,\n",
    "        criterion,\n",
    "        clip,\n",
    "        teacher_forcing_ratio,\n",
    "        device,\n",
    "    )\n",
    "    valid_loss = evaluate_fn(\n",
    "        model,\n",
    "        valid_data_loader,\n",
    "        criterion,\n",
    "        device,\n",
    "    )\n",
    "    if valid_loss < best_valid_loss:\n",
    "        best_valid_loss = valid_loss\n",
    "        torch.save(model.state_dict(), \"tut1-model.pt\")\n",
    "    print(f\"\\tTrain Loss: {train_loss:7.3f} | Train PPL: {np.exp(train_loss):7.3f}\")\n",
    "    print(f\"\\tValid Loss: {valid_loss:7.3f} | Valid PPL: {np.exp(valid_loss):7.3f}\")"
   ]
  },
  {
   "cell_type": "code",
   "execution_count": 39,
   "id": "e10ababa-e800-43df-8850-b45685feccd4",
   "metadata": {},
   "outputs": [
    {
     "data": {
      "text/plain": [
       "<All keys matched successfully>"
      ]
     },
     "execution_count": 39,
     "metadata": {},
     "output_type": "execute_result"
    }
   ],
   "source": [
    "model.load_state_dict(torch.load(\"tut1-model.pt\"))"
   ]
  },
  {
   "cell_type": "code",
   "execution_count": 40,
   "id": "dad37c3b-46f7-4f8a-8b1e-cc7138e84386",
   "metadata": {},
   "outputs": [],
   "source": [
    "def translate_sentence(\n",
    "    sentence,\n",
    "    model,\n",
    "    en_nlp,\n",
    "    de_nlp,\n",
    "    en_vocab,\n",
    "    de_vocab,\n",
    "    lower,\n",
    "    sos_token,\n",
    "    eos_token,\n",
    "    device,\n",
    "    max_output_length=25,\n",
    "):\n",
    "    model.eval()\n",
    "    with torch.no_grad():\n",
    "        if isinstance(sentence, str):\n",
    "            tokens = [token.text for token in de_nlp.tokenizer(sentence)]\n",
    "        else:\n",
    "            tokens = [token for token in sentence]\n",
    "        if lower:\n",
    "            tokens = [token.lower() for token in tokens]\n",
    "        tokens = [sos_token] + tokens + [eos_token]\n",
    "        ids = de_vocab.lookup_indices(tokens)\n",
    "        tensor = torch.LongTensor(ids).unsqueeze(-1).to(device)\n",
    "        hidden, cell = model.encoder(tensor)\n",
    "        inputs = en_vocab.lookup_indices([sos_token])\n",
    "        for _ in range(max_output_length):\n",
    "            inputs_tensor = torch.LongTensor([inputs[-1]]).to(device)\n",
    "            output, hidden, cell = model.decoder(inputs_tensor, hidden, cell)\n",
    "            predicted_token = output.argmax(-1).item()\n",
    "            inputs.append(predicted_token)\n",
    "            if predicted_token == en_vocab[eos_token]:\n",
    "                break\n",
    "        tokens = en_vocab.lookup_tokens(inputs)\n",
    "    return tokens"
   ]
  },
  {
   "cell_type": "code",
   "execution_count": 41,
   "id": "f3755d0c-11d2-48a9-bbcf-61182650a5e2",
   "metadata": {},
   "outputs": [
    {
     "data": {
      "text/plain": [
       "('Ein Mann mit einem orangefarbenen Hut, der etwas anstarrt.',\n",
       " 'A man in an orange hat starring at something.')"
      ]
     },
     "execution_count": 41,
     "metadata": {},
     "output_type": "execute_result"
    }
   ],
   "source": [
    "sentence = test_data[0][\"de\"]\n",
    "expected_translation = test_data[0][\"en\"]\n",
    "\n",
    "sentence, expected_translation"
   ]
  },
  {
   "cell_type": "code",
   "execution_count": 42,
   "id": "6ca3f535-e8a1-4a83-a531-8d818f0fe312",
   "metadata": {},
   "outputs": [],
   "source": [
    "translation = translate_sentence(\n",
    "    sentence,\n",
    "    model,\n",
    "    en_nlp,\n",
    "    de_nlp,\n",
    "    en_vocab,\n",
    "    de_vocab,\n",
    "    lower,\n",
    "    sos_token,\n",
    "    eos_token,\n",
    "    device,\n",
    ")"
   ]
  },
  {
   "cell_type": "code",
   "execution_count": 43,
   "id": "49fd16c0-f72b-40e8-ae0a-a4389abe2fe2",
   "metadata": {},
   "outputs": [
    {
     "data": {
      "text/plain": [
       "['<sos>',\n",
       " 'a',\n",
       " 'man',\n",
       " 'in',\n",
       " 'a',\n",
       " 'a',\n",
       " 'shirt',\n",
       " 'is',\n",
       " 'a',\n",
       " 'a',\n",
       " 'a',\n",
       " '.',\n",
       " '<eos>']"
      ]
     },
     "execution_count": 43,
     "metadata": {},
     "output_type": "execute_result"
    }
   ],
   "source": [
    "translation"
   ]
  },
  {
   "cell_type": "code",
   "execution_count": null,
   "id": "4c13bb2c-1f53-4de6-a2ec-573ffa169a35",
   "metadata": {},
   "outputs": [],
   "source": []
  }
 ],
 "metadata": {
  "kernelspec": {
   "display_name": "Python 3 (ipykernel)",
   "language": "python",
   "name": "python3"
  },
  "language_info": {
   "codemirror_mode": {
    "name": "ipython",
    "version": 3
   },
   "file_extension": ".py",
   "mimetype": "text/x-python",
   "name": "python",
   "nbconvert_exporter": "python",
   "pygments_lexer": "ipython3",
   "version": "3.8.20"
  }
 },
 "nbformat": 4,
 "nbformat_minor": 5
}
